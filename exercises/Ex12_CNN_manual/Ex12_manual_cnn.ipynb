{
 "cells": [
  {
   "cell_type": "markdown",
   "metadata": {},
   "source": [
    "[![Open In Colab](https://colab.research.google.com/assets/colab-badge.svg)](https://colab.research.google.com/github/Humboldt-WI/adams/blob/master/exercises/Ex12_CNN_manual/Ex12_manual_cnn.ipynb) \n"
   ]
  },
  {
   "cell_type": "markdown",
   "metadata": {},
   "source": [
    "# ADAMS Tutorial #12: Convolutional Neural Networks"
   ]
  },
  {
   "cell_type": "markdown",
   "metadata": {},
   "source": [
    "Convolutional Neural Networks (CNN) are typically introduced as a model for image data. And we will get there. But to understand what kernels/filters, convolutions and convolutional layers do, let us stay in a context that is more familiar to us - time series data!\n",
    "\n",
    "Here is the outline of today:\n",
    "\n",
    "    1. Introductory example: Time series reloaded\n",
    "    2. Convoluting kernels as matrix multiplication\n",
    "    3. Convolutional layers for image processing\n",
    "    4. Convolutional layers in Keras"
   ]
  },
  {
   "cell_type": "code",
   "execution_count": 5,
   "metadata": {},
   "outputs": [],
   "source": [
    "import numpy as np\n",
    "import matplotlib.pyplot as plt\n",
    "\n",
    "np.random.seed(123)"
   ]
  },
  {
   "cell_type": "markdown",
   "metadata": {},
   "source": [
    "## 1. Introductory example: Time series reloaded"
   ]
  },
  {
   "cell_type": "markdown",
   "metadata": {},
   "source": [
    "Image a random walk that moves from the position in $t-1$ to a new value in $t$ based on a random Gaussian error. You are likely to know this pattern from the hypothesis, that the stock market is best understood as a random walk. "
   ]
  },
  {
   "cell_type": "code",
   "execution_count": 6,
   "metadata": {},
   "outputs": [],
   "source": [
    "x = np.zeros(100)\n",
    "for i in range(0,100):\n",
    "    if i==0:\n",
    "        x[i] = np.random.normal(loc=0, scale=1)\n",
    "    else:\n",
    "        x[i] = x[i-1] + np.random.normal(loc=0, scale=1)"
   ]
  },
  {
   "cell_type": "code",
   "execution_count": 7,
   "metadata": {},
   "outputs": [
    {
     "data": {
      "image/png": "[encoded data removed]",
      "text/plain": [
       "<Figure size 432x288 with 1 Axes>"
      ]
     },
     "metadata": {
      "needs_background": "light"
     },
     "output_type": "display_data"
    }
   ],
   "source": [
    "plt.plot(x)\n",
    "plt.ylim(-20,20)\n",
    "plt.title('Random walk process')\n",
    "plt.show()"
   ]
  },
  {
   "cell_type": "markdown",
   "metadata": {},
   "source": [
    "### Smoothing: The moving average"
   ]
  },
  {
   "cell_type": "markdown",
   "metadata": {},
   "source": [
    "To understand what convolutions do, it is often useful to start from a moving average. Moving averages are often used to smooth a time series. We can use the above curve as an example. It fluctuates a lot. Let's smooth it using a moving average for better for visualization as a simple forecast. \n",
    "\n",
    "You are probably familiar with a moving average: it is the average over the previous $k$ periods:\n",
    "\n",
    "$$ MA(x_i, \\ldots, x_{i-k}) = \\frac{1}{K} \\sum\\limits^{K-1}_{k=0} x_{i-k} $$"
   ]
  },
  {
   "cell_type": "markdown",
   "metadata": {},
   "source": [
    "The window size K determines how much smoothing we want. "
   ]
  },
  {
   "cell_type": "code",
   "execution_count": 8,
   "metadata": {},
   "outputs": [],
   "source": [
    "WINDOW_SIZE = 5"
   ]
  },
  {
   "cell_type": "code",
   "execution_count": 9,
   "metadata": {},
   "outputs": [],
   "source": [
    "x_ma = x.copy()"
   ]
  },
  {
   "cell_type": "markdown",
   "metadata": {},
   "source": [
    "To smooth the curve, we replace the value in each period by the average over the period and the previous K-1 periods. If our data were stored as *Pandas Series*, the Pandas function `Rolling` offers a neat way to compute moving averages over (time) series. However, it is easy enough to implement it ourselves."
   ]
  },
  {
   "cell_type": "code",
   "execution_count": 10,
   "metadata": {},
   "outputs": [],
   "source": [
    "for i in range(WINDOW_SIZE-1,100):\n",
    "    x_ma[i] = np.mean(x[(i-WINDOW_SIZE+1):(i+1)])"
   ]
  },
  {
   "cell_type": "code",
   "execution_count": 11,
   "metadata": {},
   "outputs": [
    {
     "data": {
      "image/png": "[encoded data removed]",
      "text/plain": [
       "<Figure size 432x288 with 1 Axes>"
      ]
     },
     "metadata": {
      "needs_background": "light"
     },
     "output_type": "display_data"
    }
   ],
   "source": [
    "plt.plot(x_ma)\n",
    "plt.ylim(-20,20)\n",
    "plt.show()"
   ]
  },
  {
   "cell_type": "markdown",
   "metadata": {},
   "source": [
    "That looks much less erratic! Smoothing can be useful to filter out noise and make the overall trend more visible."
   ]
  },
  {
   "cell_type": "markdown",
   "metadata": {},
   "source": [
    "### The moving average as a kernel"
   ]
  },
  {
   "cell_type": "markdown",
   "metadata": {},
   "source": [
    "It turns out that we can understand the moving average as a much more general concept called a kernel. Because we are doing deep learning, we call kernels *filters*. A kernel or filter is just a matrix (of weights). "
   ]
  },
  {
   "cell_type": "markdown",
   "metadata": {},
   "source": [
    "We can write the *moving average* function above as a matrix like this:"
   ]
  },
  {
   "cell_type": "code",
   "execution_count": 12,
   "metadata": {},
   "outputs": [
    {
     "data": {
      "text/plain": [
       "[0.2, 0.2, 0.2, 0.2, 0.2]"
      ]
     },
     "execution_count": 12,
     "metadata": {},
     "output_type": "execute_result"
    }
   ],
   "source": [
    "[1/WINDOW_SIZE]*WINDOW_SIZE"
   ]
  },
  {
   "cell_type": "code",
   "execution_count": 13,
   "metadata": {},
   "outputs": [],
   "source": [
    "kernel = np.array([1/WINDOW_SIZE]*WINDOW_SIZE)"
   ]
  },
  {
   "cell_type": "code",
   "execution_count": 18,
   "metadata": {},
   "outputs": [
    {
     "data": {
      "text/plain": [
       "-0.8362050831634413"
      ]
     },
     "execution_count": 18,
     "metadata": {},
     "output_type": "execute_result"
    }
   ],
   "source": [
    "kernel.dot(x[0:WINDOW_SIZE])"
   ]
  },
  {
   "cell_type": "code",
   "execution_count": 20,
   "metadata": {},
   "outputs": [
    {
     "data": {
      "text/plain": [
       "-0.8362050831634413"
      ]
     },
     "execution_count": 20,
     "metadata": {},
     "output_type": "execute_result"
    }
   ],
   "source": [
    "x_ma[WINDOW_SIZE-1]"
   ]
  },
  {
   "cell_type": "markdown",
   "metadata": {},
   "source": [
    "![Moving average as a matrix multiplication](moving_average_kernel.png)"
   ]
  },
  {
   "cell_type": "markdown",
   "metadata": {},
   "source": [
    "A convolution is then the sum over the element-wise multiplication."
   ]
  },
  {
   "cell_type": "markdown",
   "metadata": {},
   "source": [
    "To be fair, the convolution just calculates the average over five values. When we multiply the averaging kernel with pieces of our time series, i.e. move it over the data, we again see the moving average."
   ]
  },
  {
   "cell_type": "markdown",
   "metadata": {},
   "source": [
    "![Moving average as a matrix multiplication](moving_average_loop.png)"
   ]
  },
  {
   "cell_type": "code",
   "execution_count": 18,
   "metadata": {},
   "outputs": [],
   "source": [
    "x_ma2 = x.copy()"
   ]
  },
  {
   "cell_type": "code",
   "execution_count": 19,
   "metadata": {},
   "outputs": [],
   "source": [
    "for i in range(WINDOW_SIZE-1, 100):\n",
    "    x_ma2[i] = kernel.dot(x[(i-WINDOW_SIZE+1):(i+1)])"
   ]
  },
  {
   "cell_type": "code",
   "execution_count": 20,
   "metadata": {},
   "outputs": [
    {
     "data": {
      "image/png": "[encoded data removed]",
      "text/plain": [
       "<Figure size 432x288 with 1 Axes>"
      ]
     },
     "metadata": {
      "needs_background": "light"
     },
     "output_type": "display_data"
    }
   ],
   "source": [
    "plt.plot(x_ma2)\n",
    "plt.ylim(-20,20)\n",
    "plt.show()"
   ]
  },
  {
   "cell_type": "markdown",
   "metadata": {},
   "source": [
    "Recent observations are typically more relevant. How would you change this into a weighted moving average, where observations are weighted less the farer they are in the past?\n",
    "\n",
    "Spoiler alert: Convolutional networks learn the weights of these filters from training on the data."
   ]
  },
  {
   "cell_type": "markdown",
   "metadata": {},
   "source": [
    "## 2. Convoluting kernels as matrix multiplication"
   ]
  },
  {
   "cell_type": "code",
   "execution_count": 161,
   "metadata": {},
   "outputs": [],
   "source": [
    "kernel = np.array([1/WINDOW_SIZE]*WINDOW_SIZE)"
   ]
  },
  {
   "cell_type": "markdown",
   "metadata": {},
   "source": [
    "Looping the filter over the data is not what happens in the convolutional network. In fact, it is much more efficient to convert the actual calculation into a matrix multiplication. We have done matrix multiplications before and we know that our infrastructure is optimized to do them."
   ]
  },
  {
   "cell_type": "markdown",
   "metadata": {},
   "source": [
    "To be able to do matrix multiplication instead of using a loop, we transform the data until the problem looks like a matrix multiplication problem!"
   ]
  },
  {
   "cell_type": "markdown",
   "metadata": {},
   "source": [
    "![Moving average as a matrix multiplication](moving_average_CNN.png)"
   ]
  },
  {
   "cell_type": "code",
   "execution_count": 30,
   "metadata": {},
   "outputs": [],
   "source": [
    "def data2vectors(data, kernel_size):\n",
    "    X = []\n",
    "    \n",
    "    for i in range(0, len(data)-kernel_size+1):\n",
    "        x = data[i:(i+kernel_size)]    \n",
    "        X.append(x)\n",
    "           \n",
    "    return np.array(X)"
   ]
  },
  {
   "cell_type": "code",
   "execution_count": 32,
   "metadata": {},
   "outputs": [
    {
     "name": "stdout",
     "output_type": "stream",
     "text": [
      "[0 1 2 3 4 5 6 7 8 9]\n"
     ]
    },
    {
     "data": {
      "text/plain": [
       "array([[0, 1, 2],\n",
       "       [1, 2, 3],\n",
       "       [2, 3, 4],\n",
       "       [3, 4, 5],\n",
       "       [4, 5, 6],\n",
       "       [5, 6, 7],\n",
       "       [6, 7, 8],\n",
       "       [7, 8, 9]])"
      ]
     },
     "execution_count": 32,
     "metadata": {},
     "output_type": "execute_result"
    }
   ],
   "source": [
    "# Test the function\n",
    "test = np.arange(10)\n",
    "print(test)\n",
    "data2vectors(test, 3)"
   ]
  },
  {
   "cell_type": "markdown",
   "metadata": {},
   "source": [
    "Note how the function looks similar to our data construction function for the LSTM exercises! That's not a coincidence. There as well, we broke up the data to make it fit into the structure we had in mind."
   ]
  },
  {
   "cell_type": "markdown",
   "metadata": {},
   "source": [
    "Let's also solve a little problem that is becoming more inconvenient: In the image above, you can see that our generic approach doesn't know how to deal with the first 4 values. Since we don't have earlier observations, we can't really calculate the average over five values. \n",
    "\n",
    "We use a heuristic solution called `padding`. In this case, we'll make the (naive) assumption that the time series hasn't changed before the first value and will copy the first value into the past. In image data, we usually pad with the value 0 (black)."
   ]
  },
  {
   "cell_type": "code",
   "execution_count": 33,
   "metadata": {},
   "outputs": [
    {
     "data": {
      "text/plain": [
       "array([-1.0856306 , -0.08828516,  0.19469334, -1.31160137, -1.89020162])"
      ]
     },
     "execution_count": 33,
     "metadata": {},
     "output_type": "execute_result"
    }
   ],
   "source": [
    "x[:5]"
   ]
  },
  {
   "cell_type": "code",
   "execution_count": 34,
   "metadata": {},
   "outputs": [],
   "source": [
    "x_padded = np.hstack([np.repeat(x[0], 4), x.copy()])"
   ]
  },
  {
   "cell_type": "markdown",
   "metadata": {},
   "source": [
    "See how the first fake four values are now equal to the real first value. When can now (technically) calculate a moving average even for the first period!"
   ]
  },
  {
   "cell_type": "code",
   "execution_count": 35,
   "metadata": {},
   "outputs": [
    {
     "data": {
      "text/plain": [
       "array([-1.0856306 , -1.0856306 , -1.0856306 , -1.0856306 , -1.0856306 ,\n",
       "       -0.08828516,  0.19469334, -1.31160137, -1.89020162, -0.23876509,\n",
       "       -2.66544433, -3.09435696, -1.8284207 , -2.6951611 , -3.37404725,\n",
       "       -3.46875622, -1.9773666 , -2.61626859, -3.06025055, -3.49460183,\n",
       "       -1.28867175,  0.89811434,  1.90216824,  2.28835464,  3.02572322,\n",
       "        4.51645524,  3.58062137,  4.75645042,  3.50256975,  2.86481825,\n",
       "        3.77192345,  2.34324274,  2.20317402,  1.34141913,  1.08579976,\n",
       "       -1.71278935, -3.48432245, -4.18419969, -3.25673725, -3.43037294,\n",
       "       -3.42752702, -2.73930431, -3.61884065, -3.33521333, -4.14057985,\n",
       "       -5.86824934, -6.25914914, -5.68534327, -5.34675422, -5.35858472,\n",
       "       -2.96621945, -2.55330729, -1.57457128,  0.66357205, -0.63051327,\n",
       "       -1.66930148,  0.07441075, -0.72365199, -0.69396876,  0.37534721,\n",
       "        1.2660536 ,  3.02093978,  4.51658392,  5.58597659,  4.81326788,\n",
       "        5.60813054,  5.92240254,  4.59613708,  6.01343613,  6.82067266,\n",
       "        6.86616274,  6.63307068,  5.43476953,  5.63429361,  6.10273273,\n",
       "        5.27157774,  6.43378179,  5.33657875,  3.2134784 ,  4.25320549,\n",
       "        3.84983945,  3.72380986,  2.88629314,  1.28033038,  2.53556775,\n",
       "        1.84669877,  3.50765126,  4.31495945,  4.0002013 ,  2.9142989 ,\n",
       "        2.18183691,  0.96931378,  3.05642714,  3.22086837,  4.37107391,\n",
       "        3.10372186,  3.28475699,  4.46261893,  4.12760817,  5.15872263,\n",
       "        4.07415472,  2.71068317,  3.09008378,  2.71090735])"
      ]
     },
     "execution_count": 35,
     "metadata": {},
     "output_type": "execute_result"
    }
   ],
   "source": [
    "x_padded"
   ]
  },
  {
   "cell_type": "code",
   "execution_count": 36,
   "metadata": {},
   "outputs": [],
   "source": [
    "x_vector = data2vectors(x_padded, kernel_size = WINDOW_SIZE)"
   ]
  },
  {
   "cell_type": "code",
   "execution_count": 37,
   "metadata": {},
   "outputs": [
    {
     "data": {
      "text/plain": [
       "array([[-1.0856306 , -1.0856306 , -1.0856306 , -1.0856306 , -1.0856306 ],\n",
       "       [-1.0856306 , -1.0856306 , -1.0856306 , -1.0856306 , -0.08828516],\n",
       "       [-1.0856306 , -1.0856306 , -1.0856306 , -0.08828516,  0.19469334],\n",
       "       [-1.0856306 , -1.0856306 , -0.08828516,  0.19469334, -1.31160137],\n",
       "       [-1.0856306 , -0.08828516,  0.19469334, -1.31160137, -1.89020162]])"
      ]
     },
     "execution_count": 37,
     "metadata": {},
     "output_type": "execute_result"
    }
   ],
   "source": [
    "x_vector[0:5]"
   ]
  },
  {
   "cell_type": "markdown",
   "metadata": {},
   "source": [
    "The last step is to calculate the dot product with the full times series (broken up into pieces of 5 values) and the averaging kernel. "
   ]
  },
  {
   "cell_type": "code",
   "execution_count": 38,
   "metadata": {},
   "outputs": [],
   "source": [
    "x_ma3 = x_vector.dot(kernel)"
   ]
  },
  {
   "cell_type": "code",
   "execution_count": 39,
   "metadata": {},
   "outputs": [
    {
     "data": {
      "image/png": "[encoded data removed]",
      "text/plain": [
       "<Figure size 432x288 with 1 Axes>"
      ]
     },
     "metadata": {
      "needs_background": "light"
     },
     "output_type": "display_data"
    }
   ],
   "source": [
    "plt.plot(x_ma3)\n",
    "plt.ylim(-20,20)\n",
    "plt.show()"
   ]
  },
  {
   "cell_type": "markdown",
   "metadata": {},
   "source": [
    "The optimization of convolutions for GPUs (graphics processing units AKA graphics cards) or TPUs (tensor processing units) is an ongoing and important computer science task. The above codes demonstrate how the same task, smoothing the time series, can be approached from different angels. The calculations are the same. The results are the same. But the degree to which these computations can be implemented efficiently and in a highly-scalable manner, differs. The last approach is most receptive to HW acceleration. "
   ]
  },
  {
   "cell_type": "markdown",
   "metadata": {},
   "source": [
    "### Takeaways from the Moving Average"
   ]
  },
  {
   "cell_type": "markdown",
   "metadata": {},
   "source": [
    "We now know that a kernel is a matrix of values. When a kernel is convoluted/moved over the data to transform the data in a context window, that same kernel (matrix of values) is multiplied with pieces of the data. Since the kernel is typically much smaller than the full input data, we don't need to train many weights. "
   ]
  },
  {
   "cell_type": "markdown",
   "metadata": {},
   "source": [
    "## 3. Convolutional layers for image processing "
   ]
  },
  {
   "cell_type": "markdown",
   "metadata": {},
   "source": [
    "Time series data has one dimension (earlier<>later), but image data is a good example of data that has two dimensions (left<>right, up<>down). "
   ]
  },
  {
   "cell_type": "code",
   "execution_count": 41,
   "metadata": {},
   "outputs": [],
   "source": [
    "import keras"
   ]
  },
  {
   "cell_type": "code",
   "execution_count": 129,
   "metadata": {},
   "outputs": [],
   "source": [
    "fashion_mnist = keras.datasets.fashion_mnist\n",
    "\n",
    "(train_images, train_labels), (test_images, test_labels) = fashion_mnist.load_data()"
   ]
  },
  {
   "cell_type": "markdown",
   "metadata": {},
   "source": [
    "Let's understand the data, which is now 3D because we have $N$ observations!"
   ]
  },
  {
   "cell_type": "code",
   "execution_count": 130,
   "metadata": {},
   "outputs": [
    {
     "data": {
      "text/plain": [
       "(60000, 28, 28)"
      ]
     },
     "execution_count": 130,
     "metadata": {},
     "output_type": "execute_result"
    }
   ],
   "source": [
    "train_images.shape"
   ]
  },
  {
   "cell_type": "markdown",
   "metadata": {},
   "source": [
    "Image data (like multivariate time series data) is multidimensional. Each observation here is a square greyscale image with 28 pixels on the horizontal and vertical.  "
   ]
  },
  {
   "cell_type": "code",
   "execution_count": 44,
   "metadata": {},
   "outputs": [
    {
     "data": {
      "text/plain": [
       "array([[  0,   0,   0,   0,   0,   0,   0,   0,   0,   0,   0,   0,   0,\n",
       "          0,   0,   0,   0,   0,   0,   0,   0,   0,   0,   0,   0],\n",
       "       [  0,   0,   0,   0,   0,   0,   0,   0,   0,   0,   0,   0,   0,\n",
       "          0,   0,   0,   0,   0,   0,   0,   0,   0,   0,   0,   0],\n",
       "       [  0,   0,   0,   0,   0,   0,   0,   0,   0,   0,   0,   0,   0,\n",
       "          0,   0,   0,   0,   0,   0,   0,   0,   0,   0,   0,   0],\n",
       "       [  0,   0,   0,   0,   0,   0,   0,   0,   0,   0,   0,   0,   1,\n",
       "          0,   0,  13,  73,   0,   0,   1,   4,   0,   0,   0,   0],\n",
       "       [  0,   0,   0,   0,   0,   0,   0,   0,   0,   0,   0,   0,   3,\n",
       "          0,  36, 136, 127,  62,  54,   0,   0,   0,   1,   3,   4],\n",
       "       [  0,   0,   0,   0,   0,   0,   0,   0,   0,   0,   0,   0,   6,\n",
       "          0, 102, 204, 176, 134, 144, 123,  23,   0,   0,   0,   0],\n",
       "       [  0,   0,   0,   0,   0,   0,   0,   0,   0,   0,   0,   0,   0,\n",
       "          0, 155, 236, 207, 178, 107, 156, 161, 109,  64,  23,  77],\n",
       "       [  0,   0,   0,   0,   0,   0,   0,   0,   0,   0,   0,   1,   0,\n",
       "         69, 207, 223, 218, 216, 216, 163, 127, 121, 122, 146, 141],\n",
       "       [  0,   0,   0,   0,   0,   0,   0,   0,   0,   1,   1,   1,   0,\n",
       "        200, 232, 232, 233, 229, 223, 223, 215, 213, 164, 127, 123],\n",
       "       [  0,   0,   0,   0,   0,   0,   0,   0,   0,   0,   0,   0,   0,\n",
       "        183, 225, 216, 223, 228, 235, 227, 224, 222, 224, 221, 223]],\n",
       "      dtype=uint8)"
      ]
     },
     "execution_count": 44,
     "metadata": {},
     "output_type": "execute_result"
    }
   ],
   "source": [
    "train_images[0][:10,:25]"
   ]
  },
  {
   "cell_type": "code",
   "execution_count": 45,
   "metadata": {},
   "outputs": [
    {
     "data": {
      "image/png": "[encoded data removed]",
      "text/plain": [
       "<Figure size 432x288 with 2 Axes>"
      ]
     },
     "metadata": {
      "needs_background": "light"
     },
     "output_type": "display_data"
    }
   ],
   "source": [
    "plt.figure()\n",
    "plt.imshow(train_images[0], cmap=\"Greys_r\", vmin = 0, vmax = 255)\n",
    "plt.colorbar()\n",
    "plt.grid(False)\n",
    "plt.show()"
   ]
  },
  {
   "cell_type": "markdown",
   "metadata": {},
   "source": [
    "We have labels on the type of product, e.g. `9` ankle boot"
   ]
  },
  {
   "cell_type": "code",
   "execution_count": 46,
   "metadata": {},
   "outputs": [
    {
     "data": {
      "text/plain": [
       "array([9, 0, 0, 3, 0, 2, 7, 2, 5, 5], dtype=uint8)"
      ]
     },
     "execution_count": 46,
     "metadata": {},
     "output_type": "execute_result"
    }
   ],
   "source": [
    "train_labels[:10]"
   ]
  },
  {
   "cell_type": "markdown",
   "metadata": {},
   "source": [
    "### 2D convolutions"
   ]
  },
  {
   "cell_type": "markdown",
   "metadata": {},
   "source": [
    "So how do convolutions work in a 2D space and what do they do?"
   ]
  },
  {
   "cell_type": "markdown",
   "metadata": {},
   "source": [
    "Let's take this example of a specific filter used to detect edges."
   ]
  },
  {
   "cell_type": "code",
   "execution_count": 47,
   "metadata": {},
   "outputs": [],
   "source": [
    "kernel = np.array([[1,1],[-1,-1]])"
   ]
  },
  {
   "cell_type": "code",
   "execution_count": 48,
   "metadata": {},
   "outputs": [
    {
     "data": {
      "text/plain": [
       "array([[ 1,  1],\n",
       "       [-1, -1]])"
      ]
     },
     "execution_count": 48,
     "metadata": {},
     "output_type": "execute_result"
    }
   ],
   "source": [
    "kernel"
   ]
  },
  {
   "cell_type": "code",
   "execution_count": 49,
   "metadata": {},
   "outputs": [
    {
     "data": {
      "image/png": "[encoded data removed]",
      "text/plain": [
       "<Figure size 432x288 with 1 Axes>"
      ]
     },
     "metadata": {
      "needs_background": "light"
     },
     "output_type": "display_data"
    }
   ],
   "source": [
    "plt.imshow(kernel, cmap=\"Greys_r\", vmin = -1, vmax = 1)\n",
    "plt.show()"
   ]
  },
  {
   "cell_type": "markdown",
   "metadata": {},
   "source": [
    "![Edge filter](edge_filter.png)"
   ]
  },
  {
   "cell_type": "markdown",
   "metadata": {},
   "source": [
    "#### Padding"
   ]
  },
  {
   "cell_type": "markdown",
   "metadata": {},
   "source": [
    "Like with the time series data, we will have to pad the image a little to apply our filter at the sides of the image. "
   ]
  },
  {
   "cell_type": "code",
   "execution_count": 50,
   "metadata": {},
   "outputs": [],
   "source": [
    "img = train_images[0]"
   ]
  },
  {
   "cell_type": "code",
   "execution_count": 55,
   "metadata": {},
   "outputs": [],
   "source": [
    "img = np.c_[img, np.zeros(28)] \n",
    "img = np.c_[     np.zeros(28), img] "
   ]
  },
  {
   "cell_type": "code",
   "execution_count": 56,
   "metadata": {},
   "outputs": [],
   "source": [
    "img = np.r_[img, np.zeros(30).reshape(1,-1)]\n",
    "img = np.r_[     np.zeros(30).reshape(1,-1), img] "
   ]
  },
  {
   "cell_type": "code",
   "execution_count": 57,
   "metadata": {},
   "outputs": [
    {
     "data": {
      "text/plain": [
       "(30, 30)"
      ]
     },
     "execution_count": 57,
     "metadata": {},
     "output_type": "execute_result"
    }
   ],
   "source": [
    "img.shape"
   ]
  },
  {
   "cell_type": "code",
   "execution_count": 58,
   "metadata": {},
   "outputs": [
    {
     "data": {
      "image/png": "[encoded data removed]",
      "text/plain": [
       "<Figure size 432x288 with 2 Axes>"
      ]
     },
     "metadata": {
      "needs_background": "light"
     },
     "output_type": "display_data"
    }
   ],
   "source": [
    "plt.figure()\n",
    "plt.imshow(img, cmap=\"Greys_r\", vmin = 0, vmax = 255)\n",
    "plt.colorbar()\n",
    "plt.grid(False)\n",
    "plt.show()"
   ]
  },
  {
   "cell_type": "markdown",
   "metadata": {},
   "source": [
    "Not much has changed, except for extra 0 pixels around the image, which is now 30x30 pixels in size."
   ]
  },
  {
   "cell_type": "markdown",
   "metadata": {},
   "source": [
    "#### Edge detector convolution"
   ]
  },
  {
   "cell_type": "markdown",
   "metadata": {},
   "source": [
    "We apply the filter to pieces of the images, just like with the time series data. Let's just have a quick look what a piece of the image will look like."
   ]
  },
  {
   "cell_type": "code",
   "execution_count": 60,
   "metadata": {},
   "outputs": [],
   "source": [
    "i_x, i_y = 15,15"
   ]
  },
  {
   "cell_type": "code",
   "execution_count": 61,
   "metadata": {},
   "outputs": [
    {
     "data": {
      "image/png": "[encoded data removed]",
      "text/plain": [
       "<Figure size 432x288 with 1 Axes>"
      ]
     },
     "metadata": {
      "needs_background": "light"
     },
     "output_type": "display_data"
    }
   ],
   "source": [
    "# Zoom into 10x10 piece here\n",
    "plt.imshow(img[(i_y-5):(i_y+5), (i_x-5):(i_x+5)],\n",
    "           cmap=\"Greys_r\", vmin = 0, vmax = 255);"
   ]
  },
  {
   "cell_type": "markdown",
   "metadata": {},
   "source": [
    "Alright. We will loop over all pieces in the image (again in a loop for simplicity). For each piece, we apply the filter by multiplying it element-wise and then summing up the resulting values."
   ]
  },
  {
   "cell_type": "code",
   "execution_count": 67,
   "metadata": {},
   "outputs": [],
   "source": [
    "output = np.zeros(train_images[0].shape)\n",
    "\n",
    "for i_x in range(1,29):\n",
    "    for i_y in range(1,29):\n",
    "        output[i_y-1, i_x-1] = np.sum(kernel * img[(i_y-1):(i_y+1), (i_x-1):(i_x+1)])"
   ]
  },
  {
   "cell_type": "code",
   "execution_count": 68,
   "metadata": {},
   "outputs": [
    {
     "data": {
      "image/png": "[encoded data removed]",
      "text/plain": [
       "<Figure size 432x288 with 1 Axes>"
      ]
     },
     "metadata": {
      "needs_background": "light"
     },
     "output_type": "display_data"
    }
   ],
   "source": [
    "plt.imshow(output,\n",
    "           cmap=\"Greys_r\")\n",
    "plt.show()"
   ]
  },
  {
   "cell_type": "markdown",
   "metadata": {},
   "source": [
    "Wow, the kernel looks at a small piece of the overall image and extracts information on that small space. Think  about that: The 2D convolution from the time series example helped us extract information at a small context of time (5 periods). The kernel here extracts informations at a small space of the image (3x3 pixels). Convolutions are useful whenever some 'space' in the data is a meaningful concept.\n",
    "\n",
    "This is much different from the use cases we considered in Business Analytics and Data Science. Consider, for example, churn prediction. Since the row order of customer in churn data and/or the column order of variables is arbitrary and can be reordered without losing information, applying convolutions to structured data is usually not useful. On the other hand, tabular data like time series or panel data is a use case, since the row or column order may be used to imply time."
   ]
  },
  {
   "cell_type": "markdown",
   "metadata": {},
   "source": [
    "Note: The Hamard product (element-wise multiplication) and sum may seem weird: `np.sum(kernel * img[(i_y-1):(i_y+2), (i_x-1):(i_x+2)])`. But just like with the 2D convolutions above, we can formulate the convolution as a vector multiplication and see that the multiplication-sum process comes naturally."
   ]
  },
  {
   "cell_type": "code",
   "execution_count": 188,
   "metadata": {},
   "outputs": [],
   "source": [
    "i_y, i_x = 2,20"
   ]
  },
  {
   "cell_type": "code",
   "execution_count": 189,
   "metadata": {},
   "outputs": [
    {
     "data": {
      "text/plain": [
       "array([[  3., 202.],\n",
       "       [ 98., 233.]])"
      ]
     },
     "execution_count": 189,
     "metadata": {},
     "output_type": "execute_result"
    }
   ],
   "source": [
    "img[(i_x-1):(i_x+1), (i_y-1):(i_y+1)]"
   ]
  },
  {
   "cell_type": "code",
   "execution_count": 190,
   "metadata": {},
   "outputs": [
    {
     "data": {
      "text/plain": [
       "array([  3., 202.,  98., 233.])"
      ]
     },
     "execution_count": 190,
     "metadata": {},
     "output_type": "execute_result"
    }
   ],
   "source": [
    "# Vectorize the image\n",
    "img[(i_x-1):(i_x+1), (i_y-1):(i_y+1)].flatten()"
   ]
  },
  {
   "cell_type": "code",
   "execution_count": 191,
   "metadata": {},
   "outputs": [
    {
     "data": {
      "text/plain": [
       "array([ 1,  1, -1, -1])"
      ]
     },
     "execution_count": 191,
     "metadata": {},
     "output_type": "execute_result"
    }
   ],
   "source": [
    "# Vectorize the kernel\n",
    "kernel.flatten()"
   ]
  },
  {
   "cell_type": "code",
   "execution_count": 192,
   "metadata": {},
   "outputs": [
    {
     "data": {
      "text/plain": [
       "-126.0"
      ]
     },
     "execution_count": 192,
     "metadata": {},
     "output_type": "execute_result"
    }
   ],
   "source": [
    "np.dot(kernel.flatten(), img[(i_x-1):(i_x+1), (i_y-1):(i_y+1)].flatten())"
   ]
  },
  {
   "cell_type": "markdown",
   "metadata": {},
   "source": [
    "## 4. Convolutional layers in keras"
   ]
  },
  {
   "cell_type": "markdown",
   "metadata": {},
   "source": [
    "Now to apply our convolutions on a much larger scale! "
   ]
  },
  {
   "cell_type": "code",
   "execution_count": 101,
   "metadata": {},
   "outputs": [],
   "source": [
    "from keras.models import Sequential\n",
    "from keras.layers import Dense, Conv2D, Conv3D, Flatten, MaxPooling2D"
   ]
  },
  {
   "cell_type": "code",
   "execution_count": 102,
   "metadata": {},
   "outputs": [
    {
     "name": "stdout",
     "output_type": "stream",
     "text": [
      "Model: \"sequential_7\"\n",
      "_________________________________________________________________\n",
      "Layer (type)                 Output Shape              Param #   \n",
      "=================================================================\n",
      "conv2d_8 (Conv2D)            (None, 26, 26, 10)        100       \n",
      "_________________________________________________________________\n",
      "conv2d_9 (Conv2D)            (None, 24, 24, 10)        910       \n",
      "_________________________________________________________________\n",
      "flatten_6 (Flatten)          (None, 5760)              0         \n",
      "_________________________________________________________________\n",
      "dense_6 (Dense)              (None, 10)                57610     \n",
      "=================================================================\n",
      "Total params: 58,620\n",
      "Trainable params: 58,620\n",
      "Non-trainable params: 0\n",
      "_________________________________________________________________\n"
     ]
    }
   ],
   "source": [
    "#create model\n",
    "model = Sequential()\n",
    "#add model layers\n",
    "nb_filters = 10\n",
    "nb_out_layer = 10\n",
    "filter_size = 3\n",
    "model.add(Conv2D(nb_filters, kernel_size=filter_size, activation=\"relu\", input_shape=(28,28,1)))\n",
    "model.add(Conv2D(nb_filters, kernel_size=filter_size, activation=\"relu\"))\n",
    "model.add(Flatten())\n",
    "model.add(Dense(nb_out_layer, activation=\"softmax\"))\n",
    "\n",
    "model.summary()"
   ]
  },
  {
   "cell_type": "markdown",
   "metadata": {},
   "source": [
    "Make sure you understand the dimensionality at each stage of the model:\n",
    "\n",
    "1. Dimension of the input image (28,28,1) -> What is the 3rd dimension?\n",
    "2. Dimension of the second convolutional layer -> Why 24x24? Why 10 on the third axis?\n",
    "3. Why does the second convolutional layer have much more parameters than the first?\n",
    "4. Why the large number of parameters in the Dense layer?"
   ]
  },
  {
   "cell_type": "markdown",
   "metadata": {},
   "source": [
    "For convolutional layers, we can calculate the number of parameters as `(input_channels * filter_size + 1)* output_channels`."
   ]
  },
  {
   "cell_type": "code",
   "execution_count": 103,
   "metadata": {},
   "outputs": [
    {
     "data": {
      "text/plain": [
       "100"
      ]
     },
     "execution_count": 103,
     "metadata": {},
     "output_type": "execute_result"
    }
   ],
   "source": [
    "(1 * (filter_size**2) + 1) * nb_filters"
   ]
  },
  {
   "cell_type": "code",
   "execution_count": 104,
   "metadata": {},
   "outputs": [
    {
     "data": {
      "text/plain": [
       "910"
      ]
     },
     "execution_count": 104,
     "metadata": {},
     "output_type": "execute_result"
    }
   ],
   "source": [
    "(nb_filters * (filter_size**2) + 1) * nb_filters"
   ]
  },
  {
   "cell_type": "markdown",
   "metadata": {},
   "source": [
    "When moving from a convolutional layer to a dense layer, we flatten the output of the former to comply with the specification of the input to a dense layer. That is the purpose of the *Flatten layer* in the above ConvNet. We can calculate the output dimension of the flatten layer as the product along all axes of the input tensor. In our case:"
   ]
  },
  {
   "cell_type": "code",
   "execution_count": 105,
   "metadata": {},
   "outputs": [
    {
     "data": {
      "text/plain": [
       "5760"
      ]
     },
     "execution_count": 105,
     "metadata": {},
     "output_type": "execute_result"
    }
   ],
   "source": [
    "flatten_layer_output = 24**2*nb_filters\n",
    "flatten_layer_output"
   ]
  },
  {
   "cell_type": "markdown",
   "metadata": {},
   "source": [
    "For the dense layer, which is also the output layer of our ConvNet, we obtain the number of parameters in the usual way as `(nb_inputs + 1)*nb_outputs`:"
   ]
  },
  {
   "cell_type": "code",
   "execution_count": 106,
   "metadata": {},
   "outputs": [
    {
     "data": {
      "text/plain": [
       "57610"
      ]
     },
     "execution_count": 106,
     "metadata": {},
     "output_type": "execute_result"
    }
   ],
   "source": [
    "nb_out_layer*(flatten_layer_output+1)"
   ]
  },
  {
   "cell_type": "markdown",
   "metadata": {},
   "source": [
    "#### Max-Pooling"
   ]
  },
  {
   "cell_type": "code",
   "execution_count": 107,
   "metadata": {},
   "outputs": [],
   "source": [
    "#create model\n",
    "model = Sequential()\n",
    "\n",
    "# Add padding to keep the dimensionality of the 'hidden image' constant\n",
    "model.add(Conv2D(10, kernel_size=3, activation=\"relu\", input_shape=(28,28,1), padding=\"same\", name=\"conv1\"))\n",
    "\n",
    "# Add a max-pooling layer to reduce the size of the image over which we convolute\n",
    "model.add(MaxPooling2D(pool_size=(2,2), padding=\"same\"))\n",
    "\n",
    "model.add(Conv2D(10, kernel_size=3, activation=\"relu\", padding=\"same\", name=\"conv2\"))\n",
    "\n",
    "model.add(Flatten())\n",
    "model.add(Dense(10, activation=\"softmax\"))"
   ]
  },
  {
   "cell_type": "code",
   "execution_count": 108,
   "metadata": {},
   "outputs": [
    {
     "name": "stdout",
     "output_type": "stream",
     "text": [
      "Model: \"sequential_8\"\n",
      "_________________________________________________________________\n",
      "Layer (type)                 Output Shape              Param #   \n",
      "=================================================================\n",
      "conv1 (Conv2D)               (None, 28, 28, 10)        100       \n",
      "_________________________________________________________________\n",
      "max_pooling2d_3 (MaxPooling2 (None, 14, 14, 10)        0         \n",
      "_________________________________________________________________\n",
      "conv2 (Conv2D)               (None, 14, 14, 10)        910       \n",
      "_________________________________________________________________\n",
      "flatten_7 (Flatten)          (None, 1960)              0         \n",
      "_________________________________________________________________\n",
      "dense_7 (Dense)              (None, 10)                19610     \n",
      "=================================================================\n",
      "Total params: 20,620\n",
      "Trainable params: 20,620\n",
      "Non-trainable params: 0\n",
      "_________________________________________________________________\n"
     ]
    }
   ],
   "source": [
    "model.summary()"
   ]
  },
  {
   "cell_type": "markdown",
   "metadata": {},
   "source": [
    "#### 1x1 Convolution"
   ]
  },
  {
   "cell_type": "code",
   "execution_count": 131,
   "metadata": {},
   "outputs": [],
   "source": [
    "#create model\n",
    "model = Sequential()\n",
    "\n",
    "# Add padding to keep the dimensionality of the 'hidden image' constant\n",
    "model.add(Conv2D(10, kernel_size=3, activation=\"relu\", input_shape=(28,28,1), padding=\"same\", name=\"conv1\"))\n",
    "model.add(MaxPooling2D(pool_size=(2,2), padding=\"same\"))\n",
    "model.add(Conv2D(10, kernel_size=3, activation=\"relu\", padding=\"same\", name=\"conv2\"))\n",
    "\n",
    "# Add a 1x1 convolution to reduce the dimensionality of the Dense layer\n",
    "# by reducing the 'depth' of the hidden image\n",
    "model.add(Conv2D(1, kernel_size=1, activation=\"relu\", padding=\"same\"))\n",
    "\n",
    "model.add(Flatten())\n",
    "model.add(Dense(10, activation=\"softmax\"))"
   ]
  },
  {
   "cell_type": "code",
   "execution_count": 132,
   "metadata": {},
   "outputs": [
    {
     "name": "stdout",
     "output_type": "stream",
     "text": [
      "Model: \"sequential_10\"\n",
      "_________________________________________________________________\n",
      "Layer (type)                 Output Shape              Param #   \n",
      "=================================================================\n",
      "conv1 (Conv2D)               (None, 28, 28, 10)        100       \n",
      "_________________________________________________________________\n",
      "max_pooling2d_5 (MaxPooling2 (None, 14, 14, 10)        0         \n",
      "_________________________________________________________________\n",
      "conv2 (Conv2D)               (None, 14, 14, 10)        910       \n",
      "_________________________________________________________________\n",
      "conv2d_11 (Conv2D)           (None, 14, 14, 1)         11        \n",
      "_________________________________________________________________\n",
      "flatten_9 (Flatten)          (None, 196)               0         \n",
      "_________________________________________________________________\n",
      "dense_9 (Dense)              (None, 10)                1970      \n",
      "=================================================================\n",
      "Total params: 2,991\n",
      "Trainable params: 2,991\n",
      "Non-trainable params: 0\n",
      "_________________________________________________________________\n"
     ]
    }
   ],
   "source": [
    "model.summary()"
   ]
  },
  {
   "cell_type": "markdown",
   "metadata": {},
   "source": [
    "#### Model Training"
   ]
  },
  {
   "cell_type": "markdown",
   "metadata": {},
   "source": [
    "Finally, let's train the model"
   ]
  },
  {
   "cell_type": "code",
   "execution_count": 133,
   "metadata": {},
   "outputs": [],
   "source": [
    "#compile model using accuracy to measure model performance\n",
    "model.compile(optimizer='adam', loss='categorical_crossentropy', metrics=['accuracy'])"
   ]
  },
  {
   "cell_type": "code",
   "execution_count": 134,
   "metadata": {},
   "outputs": [],
   "source": [
    "# Reshape the images to comply with tensorflow format (height x width x channel)\n",
    "train_images, test_images = train_images.reshape(train_images.shape[0],28,28,1), test_images.reshape(test_images.shape[0],28,28,1)"
   ]
  },
  {
   "cell_type": "code",
   "execution_count": 139,
   "metadata": {},
   "outputs": [
    {
     "data": {
      "text/plain": [
       "(10000, 28, 28, 1)"
      ]
     },
     "execution_count": 139,
     "metadata": {},
     "output_type": "execute_result"
    }
   ],
   "source": [
    "test_images.shape"
   ]
  },
  {
   "cell_type": "markdown",
   "metadata": {},
   "source": [
    "Preprocessing for image data is easier/standardized, because we know the technical minimum and maximum values that pixels can take."
   ]
  },
  {
   "cell_type": "code",
   "execution_count": 137,
   "metadata": {},
   "outputs": [],
   "source": [
    "train_images = train_images.astype(\"float32\") / 255.0\n",
    "test_images = test_images.astype(\"float32\") / 255.0"
   ]
  },
  {
   "cell_type": "code",
   "execution_count": 124,
   "metadata": {},
   "outputs": [],
   "source": [
    "from keras.utils import np_utils"
   ]
  },
  {
   "cell_type": "code",
   "execution_count": 140,
   "metadata": {},
   "outputs": [],
   "source": [
    "# one-hot encode the training and testing labels\n",
    "train_labels = np_utils.to_categorical(train_labels, 10)\n",
    "test_labels = np_utils.to_categorical(test_labels, 10)"
   ]
  },
  {
   "cell_type": "code",
   "execution_count": 141,
   "metadata": {},
   "outputs": [
    {
     "data": {
      "text/plain": [
       "(10000, 10)"
      ]
     },
     "execution_count": 141,
     "metadata": {},
     "output_type": "execute_result"
    }
   ],
   "source": [
    "test_labels.shape"
   ]
  },
  {
   "cell_type": "code",
   "execution_count": 142,
   "metadata": {},
   "outputs": [
    {
     "data": {
      "text/plain": [
       "(10000, 28, 28, 1)"
      ]
     },
     "execution_count": 142,
     "metadata": {},
     "output_type": "execute_result"
    }
   ],
   "source": [
    "test_images.shape"
   ]
  },
  {
   "cell_type": "code",
   "execution_count": 143,
   "metadata": {},
   "outputs": [
    {
     "name": "stdout",
     "output_type": "stream",
     "text": [
      "10000/10000 [==============================] - 1s 80us/step\n",
      "Loss and accuracy:\n",
      " [2.3041925632476805, 0.06840000301599503]\n"
     ]
    }
   ],
   "source": [
    "print(f'Loss and accuracy:\\n {model.evaluate(test_images, test_labels)}')"
   ]
  },
  {
   "cell_type": "code",
   "execution_count": 144,
   "metadata": {},
   "outputs": [
    {
     "name": "stdout",
     "output_type": "stream",
     "text": [
      "Train on 60000 samples, validate on 10000 samples\n",
      "Epoch 1/1\n",
      "60000/60000 [==============================] - 10s 170us/step - loss: 0.8121 - accuracy: 0.7131 - val_loss: 0.5059 - val_accuracy: 0.8211\n"
     ]
    },
    {
     "data": {
      "text/plain": [
       "<keras.callbacks.callbacks.History at 0x243a28f7f08>"
      ]
     },
     "execution_count": 144,
     "metadata": {},
     "output_type": "execute_result"
    }
   ],
   "source": [
    "story = model.fit(train_images, train_labels, validation_data=(test_images, test_labels), \n",
    "                  epochs=1, batch_size=128)"
   ]
  },
  {
   "cell_type": "code",
   "execution_count": 146,
   "metadata": {},
   "outputs": [
    {
     "name": "stdout",
     "output_type": "stream",
     "text": [
      "10000/10000 [==============================] - 1s 64us/step\n",
      "Loss and accuracy:\n",
      " [0.5059407576322555, 0.8210999965667725]\n"
     ]
    }
   ],
   "source": [
    "print(f'Loss and accuracy:\\n {model.evaluate(test_images, test_labels)}')"
   ]
  },
  {
   "cell_type": "markdown",
   "metadata": {},
   "source": [
    "## Further Reading: Pretrained Image Networks"
   ]
  },
  {
   "cell_type": "markdown",
   "metadata": {},
   "source": [
    "Check out https://keras.io/applications/  -> Documentation for individual models"
   ]
  },
  {
   "cell_type": "markdown",
   "metadata": {},
   "source": [
    "NOTE: Doesn't really work with fashion MNIST, since the images are too small (28x28) for state-of-the-art models trained on imagenet (starts at 128x128)"
   ]
  }
 ],
 "metadata": {
  "kernelspec": {
   "display_name": "PyCharm (adams)",
   "language": "python",
   "name": "pycharm-feb95198"
  },
  "language_info": {
   "codemirror_mode": {
    "name": "ipython",
    "version": 3
   },
   "file_extension": ".py",
   "mimetype": "text/x-python",
   "name": "python",
   "nbconvert_exporter": "python",
   "pygments_lexer": "ipython3",
   "version": "3.7.6"
  }
 },
 "nbformat": 4,
 "nbformat_minor": 4
}
